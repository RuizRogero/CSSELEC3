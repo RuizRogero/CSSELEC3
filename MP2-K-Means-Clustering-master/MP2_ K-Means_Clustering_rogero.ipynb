{
 "cells": [
  {
   "cell_type": "code",
   "execution_count": 2,
   "metadata": {},
   "outputs": [],
   "source": [
    "# import K-Means\n",
    "from sklearn.cluster import KMeans\n",
    "\n",
    "# import numpy and pandas\n",
    "import pandas as pd\n",
    "import numpy as np\n",
    "\n",
    "# for visualization\n",
    "from matplotlib import pyplot as plt\n",
    "from matplotlib import cm\n",
    "\n",
    "df = pd.read_csv(\"C:\Users\RUIZ ROGERO\Downloads\MP2-K-Means-Clustering-master\\wine.data.csv\")\n",
    "\n",
    "# no. of clusters\n",
    "clusters = 3"
   ]
  },
  {
   "cell_type": "code",
   "execution_count": 3,
   "metadata": {},
   "outputs": [
    {
     "data": {
      "image/png": "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\n",
      "text/plain": [
       "<Figure size 432x288 with 1 Axes>"
      ]
     },
     "metadata": {
      "needs_background": "light"
     },
     "output_type": "display_data"
    }
   ],
   "source": [
    "inertias = []\n",
    "\n",
    "# loop to get inertia where k = 1 to 20\n",
    "for i in range(1, 21) :\n",
    "    km = KMeans(n_clusters=i, n_init=50, tol=1e-10, random_state=1234).fit(df)\n",
    "    inertias.append(km.inertia_)\n",
    "    \n",
    "# graph all inertias with respect to k\n",
    "fig2, ax2 = plt.subplots()\n",
    "ax2.plot(range(1,21), inertias, 'x-')\n",
    "\n",
    "plt.show()"
   ]
  },
  {
   "cell_type": "code",
   "execution_count": 4,
   "metadata": {},
   "outputs": [
    {
     "name": "stdout",
     "output_type": "stream",
     "text": [
      "For k = 2, the score is 0.656849\n",
      "For k = 3, the score is 0.571122\n",
      "For k = 4, the score is 0.562014\n",
      "For k = 5, the score is 0.548969\n",
      "For k = 6, the score is 0.565611\n",
      "For k = 7, the score is 0.561582\n",
      "('k =', 2, 'since', 0.6568, 'is the closest score to 1')\n"
     ]
    }
   ],
   "source": [
    "from sklearn.metrics import silhouette_score\n",
    "\n",
    "scores = []\n",
    "for i in range(2, 8):\n",
    "    km = KMeans(n_clusters=i, n_init=50, tol=1e-10, random_state=1234).fit_predict(df)\n",
    "    sc = silhouette_score(df, km)\n",
    "    print(\"For k = %d, the score is %g\"%(i, sc))\n",
    "    scores.append(sc)\n",
    "    \n",
    "print(\"k =\", scores.index(max(scores)) + 2, \"since\", round(max(scores), 4) , \"is the closest score to 1\")\n",
    "    "
   ]
  },
  {
   "cell_type": "code",
   "execution_count": 13,
   "metadata": {},
   "outputs": [
    {
     "name": "stdout",
     "output_type": "stream",
     "text": [
      "[0 0 0 0 2 0 0 0 0 0 0 0 0 0 0 0 0 0 0 2 2 2 0 0 2 2 0 0 2 0 0 0 0 0 0 2 2\n",
      " 0 0 2 2 0 0 2 2 0 0 0 0 0 0 0 0 0 0 0 0 0 0 1 2 1 2 1 1 2 1 1 2 2 2 1 1 0\n",
      " 2 1 1 1 2 1 1 2 2 1 1 1 1 1 2 2 1 1 1 1 1 2 2 1 2 1 2 1 1 1 2 1 1 1 1 2 1\n",
      " 1 2 1 1 1 1 1 1 1 2 1 1 1 1 1 1 1 1 1 2 1 1 2 2 2 2 1 1 1 2 2 1 1 2 2 1 2\n",
      " 2 1 1 1 1 2 2 2 1 2 2 2 1 2 1 2 2 1 2 2 2 2 1 1 2 2 2 2 2 1]\n",
      "<bound method DataFrameGroupBy.size of <pandas.core.groupby.generic.DataFrameGroupBy object at 0x000000000E19F550>>\n"
     ]
    }
   ],
   "source": [
    "km = KMeans(n_clusters=clusters, n_init=50, tol=1e-10, random_state=1234).fit(df)\n",
    "\n",
    "# get the labels/clusters\n",
    "labels = km.predict(df)\n",
    "\n",
    "print(labels)\n",
    "\n",
    "df['label'] = labels\n",
    "\n",
    "groups = df.groupby('label')\n",
    "\n",
    "print(groups.size)"
   ]
  },
  {
   "cell_type": "code",
   "execution_count": null,
   "metadata": {},
   "outputs": [],
   "source": []
  }
 ],
 "metadata": {
  "kernelspec": {
   "display_name": "Python 2",
   "language": "python",
   "name": "python2"
  },
  "language_info": {
   "codemirror_mode": {
    "name": "ipython",
    "version": 2
   },
   "file_extension": ".py",
   "mimetype": "text/x-python",
   "name": "python",
   "nbconvert_exporter": "python",
   "pygments_lexer": "ipython2",
   "version": "2.7.16"
  }
 },
 "nbformat": 4,
 "nbformat_minor": 2
}
